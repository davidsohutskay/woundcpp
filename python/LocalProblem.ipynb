{
 "cells": [
  {
   "cell_type": "code",
   "execution_count": 1,
   "metadata": {},
   "outputs": [
    {
     "name": "stdout",
     "output_type": "stream",
     "text": [
      "Populating the interactive namespace from numpy and matplotlib\n"
     ]
    }
   ],
   "source": [
    "import numpy as np\n",
    "%pylab inline\n",
    "import sympy\n",
    "from sympy import *\n",
    "from scipy.optimize import minimize, rosen, rosen_der\n",
    "## using scipy\n",
    "from scipy.optimize import fsolve\n",
    "import math\n",
    "from mpl_toolkits.mplot3d import Axes3D\n",
    "import matplotlib.pyplot as plt"
   ]
  },
  {
   "cell_type": "code",
   "execution_count": 2,
   "metadata": {
    "collapsed": true
   },
   "outputs": [],
   "source": [
    "## global parameters\n",
    "dt,PIE = symbols('dt PIE')\n",
    "\n",
    "## known values of the structural variables (previous time step)\n",
    "phif_t,a0x_t,a0y_t,kappa_t,lamdaP_a_t,lamdaP_s_t  = symbols('phif_t a0x_t a0y_t kappa_t lamdaP_a_t lamdaP_s_t')\n",
    "\n",
    "## structural unknowns\n",
    "phif,a0x,a0y,kappa,lamdaP_a,lamdaP_s  = symbols('phif a0x a0y kappa lamdaP_a lamdaP_s')\n",
    "\n",
    "## other variables \n",
    "s0x = -a0y\n",
    "s0y = a0x\n",
    "#s0x, s0y =  symbols('s0x s0y')\n",
    "\n",
    "C00, C01, C11 =  symbols('C00 C01 C11')\n",
    "C = np.array([[C00,C01],[C01,C11]])"
   ]
  },
  {
   "cell_type": "code",
   "execution_count": 18,
   "metadata": {
    "collapsed": true
   },
   "outputs": [],
   "source": [
    "### In terms of rotated coordinate system \n",
    "\n",
    "#Ce_aa = (1./(lamdaP_a*lamdaP_a))*(C00*a0x*a0x+2*C01*a0x*a0y+C11*a0y*a0y);\n",
    "#Ce_as = (1./(lamdaP_a*lamdaP_s))*(C00*a0x*s0x+C01*a0x*s0y+C01*s0x*a0y+C11*a0y*s0y);\n",
    "#Ce_ss = (1./(lamdaP_s*lamdaP_s))*(C00*s0x*s0x+2*C01*s0x*s0y+C11*s0y*s0y);\n",
    "\n",
    "Ce_aa, Ce_as, Ce_ss =  symbols('Ce_aa Ce_as Ce_ss')\n",
    "\n",
    "#lamda1 = ((Ce_aa + Ce_ss) + sqrt( (Ce_aa-Ce_ss)*(Ce_aa-Ce_ss) + 4*Ce_as*Ce_as))/2. \n",
    "#lamda0 = ((Ce_aa + Ce_ss) - sqrt( (Ce_aa-Ce_ss)*(Ce_aa-Ce_ss) + 4*Ce_as*Ce_as))/2.\n",
    "\n",
    "lamda1 =  symbols('lamda1')\n",
    "\n",
    "sinvartheta = (lamda1-Ce_aa)/sqrt(Ce_as*Ce_as + (lamda1-Ce_aa)*(lamda1-Ce_aa));\n"
   ]
  },
  {
   "cell_type": "code",
   "execution_count": 19,
   "metadata": {},
   "outputs": [
    {
     "data": {
      "text/plain": [
       "(-Ce_aa + lamda1)*(Ce_aa - lamda1)/(Ce_as**2 + (-Ce_aa + lamda1)**2)**(3/2) + 1/sqrt(Ce_as**2 + (-Ce_aa + lamda1)**2)"
      ]
     },
     "execution_count": 19,
     "metadata": {},
     "output_type": "execute_result"
    }
   ],
   "source": [
    "diff(sinvartheta,lamda1)"
   ]
  },
  {
   "cell_type": "code",
   "execution_count": 21,
   "metadata": {},
   "outputs": [
    {
     "name": "stdout",
     "output_type": "stream",
     "text": [
      "1.0*(-a0x*a0y*(lamdaP_a - lamdaP_s)*(C01*(a0x**2*lamdaP_s + a0y**2*lamdaP_a) - C11*a0x*a0y*(lamdaP_a - lamdaP_s)) + (C00*(a0x**2*lamdaP_s + a0y**2*lamdaP_a) - C01*a0x*a0y*(lamdaP_a - lamdaP_s))*(a0x**2*lamdaP_s + a0y**2*lamdaP_a))/(lamdaP_a**2*lamdaP_s**2)\n",
      "(2, 2)\n"
     ]
    }
   ],
   "source": [
    "# given the guess of the growth multipliers at this time step get the new Ce \n",
    "a0 = np.array([a0x,a0y])\n",
    "s0 = np.array([s0x,s0y])\n",
    "Fginv = (1./lamdaP_a)*np.outer(a0,a0)+(1./lamdaP_s)*np.outer(s0,s0)\n",
    "Ce = np.dot(Fginv,np.dot(C,Fginv))\n",
    "print(simplify(Ce[0,0]))\n",
    "\n",
    "# Change the basis \n",
    "Q = np.array([[a0x,s0x],[a0y,s0y]])\n",
    "Ce_a = np.dot(Q.transpose(),np.dot(Ce,Q))\n",
    "#print(Ce_a.shape)\n"
   ]
  },
  {
   "cell_type": "code",
   "execution_count": 22,
   "metadata": {
    "collapsed": true
   },
   "outputs": [],
   "source": [
    "Ce00, Ce01, Ce11 =  symbols('Ce00 Ce01 Ce11')\n",
    "Tr = Ce00 + Ce11\n",
    "Det = Ce00*Ce11 - Ce01**2\n",
    "#Tr = Ce[0,0] + Ce[1,1]\n",
    "#Det = Ce[0,0]*Ce[1,1] - Ce[0,1]**2\n",
    "#Tr, Det =  symbols('Tr Det')\n",
    "lamda1 = Tr/2. + sqrt(Tr**2/4-Det)\n",
    "lamda0 = Tr/2. - sqrt(Tr**2/4-Det)\n",
    "#simplify(diff(lamda0,Ce11))"
   ]
  },
  {
   "cell_type": "code",
   "execution_count": 37,
   "metadata": {
    "collapsed": true
   },
   "outputs": [],
   "source": [
    "e1 = np.array([Ce11-lamda1,-Ce01])\n",
    "e1 = e1/sqrt((Ce11-lamda1)**2+Ce01**2)\n",
    "#e1 = np.array([-Ce01,Ce00-lamda1])\n",
    "#e1 = e1/(Ce00-lamda1)\n",
    "#print(simplify(e1[0]))\n",
    "#print(simplify(e1[1]))\n"
   ]
  },
  {
   "cell_type": "code",
   "execution_count": 38,
   "metadata": {},
   "outputs": [
    {
     "name": "stdout",
     "output_type": "stream",
     "text": [
      "(2*Ce01*a0x - a0y*(Ce00 - 1.0*Ce11 + sqrt(-4*Ce00*Ce11 + 4*Ce01**2 + (Ce00 + Ce11)**2)))/sqrt(4*Ce01**2 + (Ce00 - 1.0*Ce11 + sqrt(-4*Ce00*Ce11 + 4*Ce01**2 + (Ce00 + Ce11)**2))**2)\n"
     ]
    }
   ],
   "source": [
    "#e1x, e1y =  symbols('e1x e1y')\n",
    "#e1_ext = np.array([e1x,e1y,0])\n",
    "e1_ext = np.array([e1[0],e1[1],0])\n",
    "a0_ext = np.array([a0x,a0y,0])\n",
    "e1crossa0 = np.cross(e1_ext,a0_ext)\n",
    "print(simplify(e1crossa0[2]))\n"
   ]
  },
  {
   "cell_type": "code",
   "execution_count": 43,
   "metadata": {},
   "outputs": [
    {
     "data": {
      "text/plain": [
       "(2*a0y*(4*Ce01**2 + (Ce00 - 1.0*Ce11 + sqrt(-4*Ce00*Ce11 + 4*Ce01**2 + (Ce00 + Ce11)**2))**2)*(2*Ce00 - 2*Ce11 + 2.0*sqrt(-4*Ce00*Ce11 + 4*Ce01**2 + (Ce00 + Ce11)**2)) + (2*Ce01*a0x - a0y*(Ce00 - 1.0*Ce11 + sqrt(-4*Ce00*Ce11 + 4*Ce01**2 + (Ce00 + Ce11)**2)))*(Ce00 - 1.0*Ce11 + sqrt(-4*Ce00*Ce11 + 4*Ce01**2 + (Ce00 + Ce11)**2))*(4*Ce00 - 4*Ce11 + 4.0*sqrt(-4*Ce00*Ce11 + 4*Ce01**2 + (Ce00 + Ce11)**2)))/(4*(4*Ce01**2 + (Ce00 - 1.0*Ce11 + sqrt(-4*Ce00*Ce11 + 4*Ce01**2 + (Ce00 + Ce11)**2))**2)**(3/2)*sqrt(-4*Ce00*Ce11 + 4*Ce01**2 + (Ce00 + Ce11)**2))"
      ]
     },
     "execution_count": 43,
     "metadata": {},
     "output_type": "execute_result"
    }
   ],
   "source": [
    "#print(lamda1)\n",
    "#diff(lamda1,Ce11)\n",
    "sinvartheta = e1crossa0[2]\n",
    "simplify(diff(sinvartheta,Ce11))\n"
   ]
  },
  {
   "cell_type": "code",
   "execution_count": 39,
   "metadata": {},
   "outputs": [
    {
     "data": {
      "text/plain": [
       "2.0*C00*a0x*a0y**2/lamdaP_s**2 - 4.0*C00*a0x*a0y**2/(lamdaP_a*lamdaP_s) + 2.0*C00*a0x*a0y**2/lamdaP_a**2 - 6.0*C01*a0x**2*a0y/lamdaP_s**2 + 6.0*C01*a0x**2*a0y/(lamdaP_a*lamdaP_s) - 2.0*C01*a0y**3/(lamdaP_a*lamdaP_s) + 2.0*C01*a0y**3/lamdaP_a**2 + 4.0*C11*a0x**3/lamdaP_s**2 + 4.0*C11*a0x*a0y**2/(lamdaP_a*lamdaP_s)"
      ]
     },
     "execution_count": 39,
     "metadata": {},
     "output_type": "execute_result"
    }
   ],
   "source": [
    "simplify(diff(Ce[1,1],a0x))"
   ]
  },
  {
   "cell_type": "code",
   "execution_count": 19,
   "metadata": {},
   "outputs": [
    {
     "name": "stdout",
     "output_type": "stream",
     "text": [
      "1.0*(-a0x*a0y*(lamdaP_a - lamdaP_s)*(C01*(a0x**2*lamdaP_s + a0y**2*lamdaP_a) - C11*a0x*a0y*(lamdaP_a - lamdaP_s)) + a0x*a0y*(lamdaP_a - lamdaP_s)*(C00*a0x*a0y*(lamdaP_a - lamdaP_s) - C01*(a0x**2*lamdaP_a + a0y**2*lamdaP_s)) + (C00*(a0x**2*lamdaP_s + a0y**2*lamdaP_a) - C01*a0x*a0y*(lamdaP_a - lamdaP_s))*(a0x**2*lamdaP_s + a0y**2*lamdaP_a) - (a0x**2*lamdaP_a + a0y**2*lamdaP_s)*(C01*a0x*a0y*(lamdaP_a - lamdaP_s) - C11*(a0x**2*lamdaP_a + a0y**2*lamdaP_s)))/(lamdaP_a**2*lamdaP_s**2)\n",
      "1.0*(1.0*C00*C11*a0x**8 + 4.0*C00*C11*a0x**6*a0y**2 + 6.0*C00*C11*a0x**4*a0y**4 + 4.0*C00*C11*a0x**2*a0y**6 + 1.0*C00*C11*a0y**8 - 1.0*C01**2*a0x**8 - 4.0*C01**2*a0x**6*a0y**2 - 6.0*C01**2*a0x**4*a0y**4 - 4.0*C01**2*a0x**2*a0y**6 - 1.0*C01**2*a0y**8)/(lamdaP_a**2*lamdaP_s**2)\n"
     ]
    }
   ],
   "source": [
    "# check that the eigenvectors of this matrix are \n",
    "T = Ce[0,0] + Ce[1,1]\n",
    "D = Ce[0,0]*Ce[1,1] - Ce[0,1]**2\n",
    "print(simplify(T))\n",
    "print(simplify(D))"
   ]
  },
  {
   "cell_type": "code",
   "execution_count": 22,
   "metadata": {},
   "outputs": [
    {
     "name": "stdout",
     "output_type": "stream",
     "text": [
      "(-1.0*a0x*a0y*(lamdaP_a - lamdaP_s)*(C01*(a0x**2*lamdaP_s + a0y**2*lamdaP_a) - C11*a0x*a0y*(lamdaP_a - lamdaP_s)) + 1.0*a0x*a0y*(lamdaP_a - lamdaP_s)*(C00*a0x*a0y*(lamdaP_a - lamdaP_s) - C01*(a0x**2*lamdaP_a + a0y**2*lamdaP_s)) + lamdaP_a**2*lamdaP_s**2*sqrt((-4.0*(-a0x*a0y*(lamdaP_a - lamdaP_s)*(C01*(a0x**2*lamdaP_s + a0y**2*lamdaP_a) - C11*a0x*a0y*(lamdaP_a - lamdaP_s)) + (C00*(a0x**2*lamdaP_s + a0y**2*lamdaP_a) - C01*a0x*a0y*(lamdaP_a - lamdaP_s))*(a0x**2*lamdaP_s + a0y**2*lamdaP_a))*(a0x*a0y*(lamdaP_a - lamdaP_s)*(C00*a0x*a0y*(lamdaP_a - lamdaP_s) - C01*(a0x**2*lamdaP_a + a0y**2*lamdaP_s)) - (a0x**2*lamdaP_a + a0y**2*lamdaP_s)*(C01*a0x*a0y*(lamdaP_a - lamdaP_s) - C11*(a0x**2*lamdaP_a + a0y**2*lamdaP_s))) + 4.0*(-a0x*a0y*(lamdaP_a - lamdaP_s)*(C01*a0x*a0y*(lamdaP_a - lamdaP_s) - C11*(a0x**2*lamdaP_a + a0y**2*lamdaP_s)) + (a0x**2*lamdaP_s + a0y**2*lamdaP_a)*(C00*a0x*a0y*(lamdaP_a - lamdaP_s) - C01*(a0x**2*lamdaP_a + a0y**2*lamdaP_s)))**2 + 1.0*(-a0x*a0y*(lamdaP_a - lamdaP_s)*(C01*(a0x**2*lamdaP_s + a0y**2*lamdaP_a) - C11*a0x*a0y*(lamdaP_a - lamdaP_s)) + a0x*a0y*(lamdaP_a - lamdaP_s)*(C00*a0x*a0y*(lamdaP_a - lamdaP_s) - C01*(a0x**2*lamdaP_a + a0y**2*lamdaP_s)) + (C00*(a0x**2*lamdaP_s + a0y**2*lamdaP_a) - C01*a0x*a0y*(lamdaP_a - lamdaP_s))*(a0x**2*lamdaP_s + a0y**2*lamdaP_a) - (a0x**2*lamdaP_a + a0y**2*lamdaP_s)*(C01*a0x*a0y*(lamdaP_a - lamdaP_s) - C11*(a0x**2*lamdaP_a + a0y**2*lamdaP_s)))**2)/(lamdaP_a**4*lamdaP_s**4)) + 1.0*(C00*(a0x**2*lamdaP_s + a0y**2*lamdaP_a) - C01*a0x*a0y*(lamdaP_a - lamdaP_s))*(a0x**2*lamdaP_s + a0y**2*lamdaP_a) - 1.0*(a0x**2*lamdaP_a + a0y**2*lamdaP_s)*(C01*a0x*a0y*(lamdaP_a - lamdaP_s) - C11*(a0x**2*lamdaP_a + a0y**2*lamdaP_s)))/(2*lamdaP_a**2*lamdaP_s**2)\n"
     ]
    }
   ],
   "source": [
    "lam1 = T/2. + sqrt(T**2/4-D)\n",
    "print(simplify(lam1))"
   ]
  },
  {
   "cell_type": "code",
   "execution_count": 37,
   "metadata": {},
   "outputs": [
    {
     "name": "stdout",
     "output_type": "stream",
     "text": [
      "Ce from formula\n",
      "[[ 2.49247418  0.63784497]\n",
      " [ 0.63784497  1.844225  ]]\n",
      "Ce from rotated coordinates\n",
      "[[ 2.49247418  0.63784497]\n",
      " [ 0.63784497  1.844225  ]]\n",
      "Ce from Fginv and C\n",
      "[[ 2.49247418  0.63784497]\n",
      " [ 0.63784497  1.844225  ]]\n",
      "\n",
      "\n",
      "[ 2.88382352  1.45287566]\n",
      "[[ 0.8523558  -0.52296232]\n",
      " [ 0.52296232  0.8523558 ]]\n",
      "lami, ei\n",
      "(2.8838235220253696, 1.4528756552513209)\n",
      "(array([-0.8523558 , -0.52296232]), array([ 0.52296232, -0.8523558 ]))\n",
      "sinvartheta: v1 (from formula), v2 (from rotated system), v3 (from cross product)\n",
      "0.572012065375844\n",
      "0.572012065375844\n",
      "0.572012065376\n"
     ]
    }
   ],
   "source": [
    "# CHECK against some numerical values\n",
    "C = np.random.rand(2,2)\n",
    "C[0,1] = C[0,1]-0.5\n",
    "C[0,0] = C[0,0]+1\n",
    "C[1,0] = C[0,1]\n",
    "C[1,1] = C[1,1]+1\n",
    "C00 = C[0,0]\n",
    "C01 = C[0,1]\n",
    "C11 = C[1,1]\n",
    "#F = np.random.rand(2,2)\n",
    "#C = np.dot(F.transpose(),F)\n",
    "#C = np.array([[2.,0],[0.,2.]])\n",
    "lamdaP_a = 0.8\n",
    "lamdaP_s = 0.9\n",
    "a0x = 0.4\n",
    "a0y = np.sqrt(1-a0x**2)\n",
    "s0x = -a0y\n",
    "s0y = a0x\n",
    "Ce_v1 = np.zeros((2,2))\n",
    "Ce_v1[0,0] = (-a0x*a0y*(lamdaP_a - lamdaP_s)*(C01*(a0x**2*lamdaP_s + a0y**2*lamdaP_a) - C11*a0x*a0y*(lamdaP_a - lamdaP_s)) + (C00*(a0x**2*lamdaP_s + a0y**2*lamdaP_a) - C01*a0x*a0y*(lamdaP_a - lamdaP_s))*(a0x**2*lamdaP_s + a0y**2*lamdaP_a))/(lamdaP_a**2*lamdaP_s**2)\n",
    "Ce_v1[0,1] = (a0x*a0y*(lamdaP_a - lamdaP_s)*(C01*a0x*a0y*(lamdaP_a - lamdaP_s) - C11*(a0x**2*lamdaP_a + a0y**2*lamdaP_s)) - (a0x**2*lamdaP_s + a0y**2*lamdaP_a)*(C00*a0x*a0y*(lamdaP_a - lamdaP_s) - C01*(a0x**2*lamdaP_a + a0y**2*lamdaP_s)))/(lamdaP_a**2*lamdaP_s**2)\n",
    "Ce_v1[1,1] = (a0x*a0y*(lamdaP_a - lamdaP_s)*(C00*a0x*a0y*(lamdaP_a - lamdaP_s) - C01*(a0x**2*lamdaP_a + a0y**2*lamdaP_s)) - (a0x**2*lamdaP_a + a0y**2*lamdaP_s)*(C01*a0x*a0y*(lamdaP_a - lamdaP_s) - C11*(a0x**2*lamdaP_a + a0y**2*lamdaP_s)))/(lamdaP_a**2*lamdaP_s**2)\n",
    "Ce_v1[1,0] = Ce_v1[0,1]\n",
    "\n",
    "## the second way is with my formula in the current code \n",
    "Ce_aa = (1./(lamdaP_a*lamdaP_a))*(C00*a0x*a0x+2*C01*a0x*a0y+C11*a0y*a0y);\n",
    "Ce_as = (1./(lamdaP_a*lamdaP_s))*(C00*a0x*s0x+C01*a0x*s0y+C01*s0x*a0y+C11*a0y*s0y);\n",
    "Ce_ss = (1./(lamdaP_s*lamdaP_s))*(C00*s0x*s0x+2*C01*s0x*s0y+C11*s0y*s0y);\n",
    "Ce_rot = np.array([[Ce_aa,Ce_as],[Ce_as,Ce_ss]])\n",
    "Q = np.array([[a0x,s0x],[a0y,s0y]])\n",
    "Ce_v2 = np.dot(Q,np.dot(Ce_rot,Q.transpose()))\n",
    "         \n",
    "a0 = np.array([a0x,a0y])\n",
    "s0 = np.array([s0x,s0y])\n",
    "Fg = lamdaP_a*np.outer(a0,a0) + lamdaP_s*np.outer(s0,s0)\n",
    "Fginv = np.linalg.inv(Fg)\n",
    "Ce_v3 = np.dot(Fginv,np.dot(C,Fginv))\n",
    "\n",
    "print('Ce from formula')\n",
    "print(Ce_v1)\n",
    "print('Ce from rotated coordinates')\n",
    "print(Ce_v2)\n",
    "print('Ce from Fginv and C')\n",
    "print(Ce_v3)\n",
    "print('\\n')\n",
    "\n",
    "w,v = np.linalg.eig(Ce_v1)\n",
    "print(w)\n",
    "print(v)\n",
    "\n",
    "# alternative with the calculation above \n",
    "T = Ce_v1[0,0]+Ce_v1[1,1]\n",
    "D = Ce_v1[0,0]*Ce_v1[1,1] - Ce_v1[0,1]**2\n",
    "lam1 = T/2. + np.sqrt(T**2/4 - D)\n",
    "lam2 = T/2. - np.sqrt(T**2/4 - D)\n",
    "if np.abs(Ce_v1[0,1])<1e-7 and np.abs(lam2-lam1)<1e-7:\n",
    "    e1 = np.array([1,0])\n",
    "    e2 = np.array([0,1])\n",
    "elif np.abs(Ce_v1[0,1])<1e-7 and np.abs(lam2-lam1)>1e-7:\n",
    "    if np.abs(Ce_v1[0,0]-lam1)>1e-7:\n",
    "        e1 = np.array([-Ce_v1[0,1],Ce_v1[0,0]-lam1])\n",
    "        e1 = e1/np.linalg.norm(e1)\n",
    "        e2 = np.array([-e1[1],e1[0]])\n",
    "    elif np.abs(Ce_v1[1,1]-lam1)>1e-7:\n",
    "        e1 = np.array([Ce_v1[1,1]-lam1,-Ce_v1[0,1]])\n",
    "        e1 = e1/np.linalg.norm(e1)\n",
    "        e2 = np.array([-e1[1],e1[0]])\n",
    "    else:\n",
    "        print('something wrong, Ce_v1=0, lam2!=lam1, but both a-lam1, d-lam1 = 0')\n",
    "else:\n",
    "    e1 = np.array([Ce_v1[1,1]-lam1,-Ce_v1[0,1]])\n",
    "    e1 = e1/np.linalg.norm(e1)\n",
    "    e2 = np.array([-e1[1],e1[0]])\n",
    "\n",
    "print('lami, ei')        \n",
    "print(lam1,lam2)\n",
    "print(e1,e2)\n",
    "sinvartheta_v1 = (-2*Ce_v1[0,1]*a0x + a0y*(-2*Ce_v1[1,1] + T + np.sqrt(-4*D + T*T)))/sqrt(4*Ce_v1[0,1]*Ce_v1[0,1] + (-2*Ce_v1[1,1] + T + sqrt(-4*D + T*T))**2);\n",
    "if(np.abs(lam1-lam2)<1e-8 or np.abs(lam1-Ce_aa)<1e-8):\n",
    "    # equal eigenvalues means multiple of identity -> you can't possibly reorient. \n",
    "    # or, eigenvector in the direction of a0 already -> no need to reorient since you are already there\n",
    "    sinvartheta_v2 = 0.\n",
    "else:\n",
    "    # if eigenvalues are not the same and the principal eigenvalue is not already in the direction of a0\n",
    "    sinvartheta_v2 = (lam1-Ce_aa)/sqrt(Ce_as*Ce_as + (lam1-Ce_aa)*(lam1-Ce_aa));\n",
    "\n",
    "e1_ext = np.array([e1[0],e1[1],0])\n",
    "a0_ext = np.array([a0[0],a0[1],0])\n",
    "sinvartheta = np.cross(e1,a0)\n",
    "sinvartheta = np.linalg.norm(sinvartheta)\n",
    "print('sinvartheta: v1 (from formula), v2 (from rotated system), v3 (from cross product)')\n",
    "print(sinvartheta_v1)\n",
    "print(sinvartheta_v2)\n",
    "print(sinvartheta)"
   ]
  },
  {
   "cell_type": "code",
   "execution_count": 24,
   "metadata": {},
   "outputs": [
    {
     "name": "stdout",
     "output_type": "stream",
     "text": [
      "[ 2.91911078  2.25021057]\n",
      "[[ 0.99308986  0.11735646]\n",
      " [-0.11735646  0.99308986]]\n",
      "2.91911078168\n",
      "2.25021057158\n",
      "0.117356458068\n"
     ]
    }
   ],
   "source": [
    "# my original code\n",
    "\n",
    "Ce_aa = (1./(lamdaP_a*lamdaP_a))*(C00*a0x*a0x+2*C01*a0x*a0y+C11*a0y*a0y);\n",
    "Ce_as = (1./(lamdaP_a*lamdaP_s))*(C00*a0x*s0x+C01*a0x*s0y+C01*s0x*a0y+C11*a0y*s0y);\n",
    "Ce_ss = (1./(lamdaP_s*lamdaP_s))*(C00*s0x*s0x+2*C01*s0x*s0y+C11*s0y*s0y);\n",
    "lamda1 = ((Ce_aa + Ce_ss) + np.sqrt( (Ce_aa-Ce_ss)*(Ce_aa-Ce_ss) + 4*Ce_as*Ce_as))/2.; # the eigenvalue is a squared number by notation\n",
    "lamda0 = ((Ce_aa + Ce_ss) - np.sqrt( (Ce_aa-Ce_ss)*(Ce_aa-Ce_ss) + 4*Ce_as*Ce_as))/2.; # the eigenvalue is a squared number by notation\n",
    "Ce_v2 = np.zeros((2,2))\n",
    "Ce_v2[0,0] = Ce_aa\n",
    "Ce_v2[0,1] = Ce_as\n",
    "Ce_v2[1,0] = Ce_as\n",
    "Ce_v2[1,1] = Ce_ss\n",
    "\n",
    "w,v = np.linalg.eig(Ce_v2)\n",
    "print(w)\n",
    "print(v)\n",
    "\n",
    "print(lamda1)\n",
    "print(lamda0)\n",
    "\n",
    "sinvartheta_v3 = (lamda1-Ce_aa)/np.sqrt(Ce_as*Ce_as + (lamda1-Ce_aa)*(lamda1-Ce_aa));\n",
    "print(sinvartheta_v3)"
   ]
  },
  {
   "cell_type": "code",
   "execution_count": 31,
   "metadata": {},
   "outputs": [
    {
     "data": {
      "text/plain": [
       "0.93037626796904049"
      ]
     },
     "execution_count": 31,
     "metadata": {},
     "output_type": "execute_result"
    }
   ],
   "source": [
    "np.linalg.norm(a0)"
   ]
  },
  {
   "cell_type": "code",
   "execution_count": null,
   "metadata": {
    "collapsed": true
   },
   "outputs": [],
   "source": [
    "// compute with eigen instead\n",
    "\t\t//FFg = lamdaP(0)*a0xa0 + lamdaP(1)*s0xs0;\n",
    "\t\t//CCe = Fg*CC*Fg; \n",
    "\t\t//lamdae_i, ei = eigen ;\n",
    "\t\t//sinvartheta = norm(a0*e1);\n",
    "\t\t"
   ]
  }
 ],
 "metadata": {
  "kernelspec": {
   "display_name": "Python 2",
   "language": "python",
   "name": "python2"
  },
  "language_info": {
   "codemirror_mode": {
    "name": "ipython",
    "version": 2
   },
   "file_extension": ".py",
   "mimetype": "text/x-python",
   "name": "python",
   "nbconvert_exporter": "python",
   "pygments_lexer": "ipython2",
   "version": "2.7.13"
  }
 },
 "nbformat": 4,
 "nbformat_minor": 2
}
